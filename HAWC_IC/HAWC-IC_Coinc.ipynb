{
 "cells": [
  {
   "cell_type": "code",
   "execution_count": 1,
   "metadata": {},
   "outputs": [
    {
     "name": "stdout",
     "output_type": "stream",
     "text": [
      "Populating the interactive namespace from numpy and matplotlib\n"
     ]
    }
   ],
   "source": [
    "%pylab inline\n",
    "\n",
    "import pandas as pd\n",
    "import healpy as hp\n",
    "import math\n",
    "\n",
    "from scipy import interpolate, stats, special, arange, array, optimize\n",
    "from scipy.interpolate import interp1d\n",
    "from astropy.coordinates import SkyCoord\n"
   ]
  },
  {
   "cell_type": "markdown",
   "metadata": {},
   "source": [
    "## Functions for likelihood"
   ]
  },
  {
   "cell_type": "code",
   "execution_count": 2,
   "metadata": {},
   "outputs": [],
   "source": [
    "#HAWC Bkg Term\n",
    "zenith = 50.\n",
    "A = 0.5 * (special.erf(zenith/(np.sqrt(2)*23.55)) - special.erf(-zenith/(np.sqrt(2)*23.55)))\n",
    "def probBkgHAWC(dec):\n",
    "    #The 2 pi is from the uniform distribution in RA\n",
    "    return A*exp(-(dec-18.98)**2/(2*23.55**2))/(np.sqrt(2*np.pi*np.deg2rad(23.55)**2) * 2*np.pi) \n",
    "\n",
    "# angular separation between two events\n",
    "def spcang (ra1, ra2, dec1, dec2):\n",
    "    ra1 = np.deg2rad(ra1)\n",
    "    ra2 = np.deg2rad(ra2)\n",
    "    dec1 = np.deg2rad(dec1)\n",
    "    dec2 = np.deg2rad(dec2)\n",
    "    return np.rad2deg(np.arccos(np.cos(dec1)*np.cos(dec2)*np.cos((ra1-ra2))+np.sin(dec1)*np.sin(dec2)))\n",
    "\n",
    "# Define an initial space log-likelihood for each event (dec and ra are coordinates of the source position)\n",
    "# Assumes a gaussian PDF\n",
    "def loglh(dec1,ra1,dec,ra,sigma1,bkgterm):\n",
    "    spc=np.deg2rad(spcang(ra1,ra,dec1,dec))\n",
    "    #s = np.deg2rad(sigma1)**2+np.deg2rad(sigma)**2\n",
    "    return -spc**2/(2*(np.deg2rad(sigma1))**2) - 0.5*np.log(2*np.pi*(np.deg2rad(sigma1))**2)-np.log(bkgterm)\n",
    "\n",
    "# Find total log-likelihood considering multiplets: only spatial terms\n",
    "def tloglh(dec,ra,events):\n",
    "    val = 0\n",
    "    for nut in events:\n",
    "        dec1 = nut[0]\n",
    "        ra1 = nut[1]\n",
    "        sigma1 = nut[2]\n",
    "        bkg=nut[4]\n",
    "        # adding log-likelihood spatial terms\n",
    "        val = val + loglh(dec1,ra1,dec,ra,sigma1,bkg)\n",
    "    return val\n",
    "\n",
    "def tloglh_time(dec,ra,events):\n",
    "    val = 0\n",
    "    for nut in events:\n",
    "        dec1 = nut[0]\n",
    "        ra1 = nut[1]\n",
    "        sigma1 = nut[2]\n",
    "        bkg=nut[4]\n",
    "        # adding log-likelihood spatial terms\n",
    "        val = val + loglh(dec1,ra1,dec,ra,sigma1,bkg)\n",
    "    if len(events) > 2:\n",
    "        for i in range(1,len(events)-1) :\n",
    "            for j in range(i+1,len(events)) :\n",
    "                # adding temporal term (T is a normlization factor that can be modified to match spatial terms)\n",
    "                #val = val - abs(((events[i][3]-events[j][3])).seconds)/T\n",
    "                val = val - abs(((events[i][3]-events[j][3])).seconds)/(events[0][3]*3600.) - np.log(events[0][3]*3600.)\n",
    "    return val\n",
    "\n",
    "def pNuCluster(events):\n",
    "    val=1\n",
    "    N=len(events)-1\n",
    "    if N==1:\n",
    "        return val\n",
    "    else:\n",
    "        lmb = 0.0066887 * events[0][3]*3600. #0.0066887 = 22334./ 3339043.sec\n",
    "        for i in range(0,N-1) :\n",
    "            val = val - np.exp(-lmb)*(lmb)**i/np.math.factorial(i)\n",
    "    return val\n",
    "\n",
    "#def pHAWC(events):\n",
    "    "
   ]
  },
  {
   "cell_type": "markdown",
   "metadata": {},
   "source": [
    "## Prepare data for more than one simulation"
   ]
  },
  {
   "cell_type": "code",
   "execution_count": 45,
   "metadata": {},
   "outputs": [
    {
     "name": "stdout",
     "output_type": "stream",
     "text": [
      "CPU times: user 19min 10s, sys: 6.42 s, total: 19min 16s\n",
      "Wall time: 19min 29s\n"
     ]
    }
   ],
   "source": [
    "%%time\n",
    "#Using several simulations\n",
    "# Create a list of lists where each secondary list contains the photon event information and all its paired neutrinos\n",
    "# photon: [RA, Dec, SigmaR], neutrino: [RA, Dec, SigmaR, timestamp]\n",
    "minspc=3.5\n",
    "#best_fit_val_time = []\n",
    "best_fit_val = []\n",
    "\n",
    "#Combine the HAWC month of data with 1200 scrambled months of IC data. -> Simulating 1200 months of data. \n",
    "for i in xrange(12):\n",
    "    #HAWC sim\n",
    "    #dfh = pd.read_csv(\"HAWC_simulations/2016-01-01_{}-times.txt\".format(i+1),delimiter=\" \")\n",
    "    dfh = pd.read_csv(\"HAWC_scrambled/{}.csv\".format(i))\n",
    "    #dfh.head(2)\n",
    "    dfh['HTime_c']=pd.to_datetime(dfh['HTime_c'])\n",
    "    dfh = dfh.sort_values(by='HTime_c')\n",
    "    dfh['HTime_i']=pd.to_datetime(dfh['HTime_i'])\n",
    "    dfh['HTime_f']=pd.to_datetime(dfh['HTime_f'])\n",
    "    sigma_hawc = stats.lognorm.rvs(0.463632912751, loc=0.0302994104141, scale=0.0741518054165, size=len(dfh), random_state=None)#abs(random.normal(0.11,0.03)) #change HAWC sigmaR to be distributed around 0.1 for now\n",
    "    dfh['HsigmaR']=sigma_hawc\n",
    "    #print dfh.head(0)\n",
    "    #IC sim\n",
    "    dfic = pd.read_csv(\"IC_scrambled2/{}.csv\".format(i))\n",
    "    #print dfic.head(0)\n",
    "    dfic['ICtime']=pd.to_datetime(dfic['ICtime'])\n",
    "    dfic = dfic.sort_values(by='ICtime')\n",
    "    #dfic['ICFPRD'] = np.power(10,-2.5)#np.power(10,signaless(len(dfic)))\n",
    "\n",
    "\n",
    "\n",
    "    all_event_list=[]\n",
    "    for h in dfh.itertuples():\n",
    "        dfw=dfic[(pd.to_datetime(h.HTime_i)<=pd.to_datetime(dfic['ICtime']))&(pd.to_datetime(h.HTime_f)>=pd.to_datetime(dfic['ICtime']))]\n",
    "        event_list=[]\n",
    "        event_list.append([h.HDec,h.HRA,h.HsigmaR,h.Hduration,probBkgHAWC(h.HDec),1-stats.norm.cdf(h.Hsig)])\n",
    "        for ic in dfw.itertuples():\n",
    "            spc=spcang(h.HRA,ic.ICRA,h.HDec,ic.ICDec)\n",
    "            if spc<minspc:\n",
    "                event_list.append([ic.ICDec,ic.ICRA,ic.ICsigmaR,pd.to_datetime(ic.ICtime), np.deg2rad(np.deg2rad(ic.ICFPRD))*h.Hduration,1.])\n",
    "        all_event_list.append(event_list)\n",
    "    \n",
    "    #Just paired events\n",
    "    all_ev_nut = [x for x in all_event_list if len(x)>1]\n",
    "    \n",
    "    #print len(all_ev_nut)\n",
    "    \n",
    "    for ev in all_ev_nut:\n",
    "        #if TempTerm:\n",
    "        solution = optimize.minimize(lambda x: -tloglh_time(x[0],x[1],ev),np.array([ev[0][0]+0.1,ev[0][1]+0.1]), method = 'SLSQP')\n",
    "        #else:\n",
    "        #solution = optimize.minimize(lambda x: -tloglh(x[0],x[1],ev),np.array([ev[0][0]+0.1,ev[0][1]+0.1]), method = 'SLSQP')#'BFGS')\n",
    "        pcluster = pNuCluster(ev)\n",
    "        psigma = ev[0][5]\n",
    "    \n",
    "    \n",
    "        stderr = 0.\n",
    "        jacerr = 0.\n",
    "        avgdist = 0.\n",
    "        stddev = 0.\n",
    "        j=0\n",
    "        n=0\n",
    "\n",
    "        if solution.success:\n",
    "            res = list(solution.x)\n",
    "            for part in ev:\n",
    "                #print part[0],part[1],part[2],solution.x[0],solution.x[1]\n",
    "                stderr += 1./(part[2]**2)\n",
    "                tmpdist1 = spcang(solution.x[1],part[1],solution.x[0],part[0])/part[2]\n",
    "                tmpdist2 = - 0.5*np.log(2*np.pi*np.deg2rad(part[2])**2) \n",
    "                stddev += spcang(solution.x[1],part[1],solution.x[0],part[0])**2\n",
    "                avgdist +=tmpdist1#+ tmpdist2\n",
    "                #print tmpdist1, tmpdist2\n",
    "                j+=1\n",
    "            #print avgdist,solution.fun\n",
    "            stderr = np.sqrt(1/stderr)\n",
    "            jacerr = np.sqrt(jacerr)\n",
    "            avgdist /= j\n",
    "            stddev /= j\n",
    "            stddev = np.sqrt(stddev)\n",
    "    \n",
    "            res.append(stderr)\n",
    "            #res.append(jacerr)\n",
    "            res.append(-1*solution.fun)\n",
    "            res.append(avgdist)\n",
    "            res.append(stddev)\n",
    "            res.append(len(ev)-1)\n",
    "            res.append(pcluster)\n",
    "            res.append(psigma)\n",
    "            res.append(ev)\n",
    "            best_fit_val.append(res)"
   ]
  },
  {
   "cell_type": "code",
   "execution_count": 46,
   "metadata": {
    "collapsed": true
   },
   "outputs": [],
   "source": [
    "likelihood = np.asarray([x[3] for x in best_fit_val])\n",
    "likelihood_pair = np.asarray([x[3] for x in best_fit_val if len(x[-1]) <= 2])\n",
    "likelihood_mult = np.asarray([x[3] for x in best_fit_val if len(x[-1]) > 2])\n",
    "hawcPV = np.asarray([x[7] for x in best_fit_val])\n",
    "pCluster = np.asarray([x[8] for x in best_fit_val])"
   ]
  },
  {
   "cell_type": "code",
   "execution_count": 47,
   "metadata": {},
   "outputs": [
    {
     "data": {
      "text/plain": [
       "<matplotlib.text.Text at 0x116a3ac10>"
      ]
     },
     "execution_count": 47,
     "metadata": {},
     "output_type": "execute_result"
    },
    {
     "data": {
      "image/png": "[encoded data removed]",
      "text/plain": [
       "<matplotlib.figure.Figure at 0x10f2716d0>"
      ]
     },
     "metadata": {},
     "output_type": "display_data"
    }
   ],
   "source": [
    "# Plot the histogram of llh values\n",
    "rcParams['figure.figsize']=12,8\n",
    "_=plt.hist(likelihood,\n",
    "         #cumulative=True,normed=1,histtype='step',\n",
    "         log=True,\n",
    "         color='b',\n",
    "         lw=1.5,\n",
    "         bins=200,\n",
    "         #range=[0,50],\n",
    "         histtype='step',\n",
    "         label=r'all events')\n",
    "_=plt.hist(likelihood_pair,\n",
    "         #cumulative=True,normed=1,histtype='step',\n",
    "         log=True,\n",
    "         color='r',\n",
    "         lw=1.5,\n",
    "         bins=200,\n",
    "         #range=[0,50],\n",
    "         #alpha=0.5,\n",
    "         histtype='step',\n",
    "         label=r'pairs')\n",
    "_=plt.hist(likelihood_mult,\n",
    "         #cumulative=True,normed=1,histtype='step',\n",
    "         log=True,\n",
    "         color='g',\n",
    "         lw=1.5,\n",
    "         bins=200,\n",
    "         #range=[0,50],\n",
    "         #alpha=0.5,\n",
    "         histtype='step',\n",
    "         label=r'multiplets')\n",
    "l=legend(bbox_to_anchor=(0.26,0.94),loc=1,borderaxespad=0,numpoints=1,fancybox=True,\n",
    "         handletextpad=1,handlelength=2,prop={'size':14})\n",
    "xlabel(r'llh',fontsize=16)"
   ]
  },
  {
   "cell_type": "code",
   "execution_count": 48,
   "metadata": {},
   "outputs": [
    {
     "data": {
      "image/png": "[encoded data removed]",
      "text/plain": [
       "<matplotlib.figure.Figure at 0x115de1ad0>"
      ]
     },
     "metadata": {},
     "output_type": "display_data"
    }
   ],
   "source": [
    "# Plot the histogram of llh values\n",
    "rcParams['figure.figsize']=12,8\n",
    "therange=[-10,30]\n",
    "_=plt.hist(likelihood,\n",
    "         #cumulative=True,normed=1,histtype='step',\n",
    "         log=True,\n",
    "         color='b',\n",
    "         lw=1.5,\n",
    "         bins=200,\n",
    "         range=therange,\n",
    "         histtype='step',\n",
    "         label=r'all events')\n",
    "_=plt.hist(likelihood_pair,\n",
    "         #cumulative=True,normed=1,histtype='step',\n",
    "         log=True,\n",
    "         color='r',\n",
    "         lw=1.5,\n",
    "         bins=200,\n",
    "         range=therange,\n",
    "         #alpha=0.5,\n",
    "         histtype='step',\n",
    "         label=r'pairs')\n",
    "_=plt.hist(likelihood_mult,\n",
    "         #cumulative=True,normed=1,histtype='step',\n",
    "         log=True,\n",
    "         color='g',\n",
    "         lw=1.5,\n",
    "         bins=200,\n",
    "         range=therange,\n",
    "         #alpha=0.5,\n",
    "         histtype='step',\n",
    "         label=r'multiplets')\n",
    "l=legend(bbox_to_anchor=(0.26,0.94),loc=1,borderaxespad=0,numpoints=1,fancybox=True,\n",
    "         handletextpad=1,handlelength=2,prop={'size':14})\n",
    "xlabel(r'llh',fontsize=16)\n",
    "savefig(\"plots/llh_1year_v2.png\")"
   ]
  },
  {
   "cell_type": "code",
   "execution_count": 49,
   "metadata": {},
   "outputs": [
    {
     "data": {
      "image/png": "[encoded data removed]",
      "text/plain": [
       "<matplotlib.figure.Figure at 0x10f593c10>"
      ]
     },
     "metadata": {},
     "output_type": "display_data"
    }
   ],
   "source": [
    "rcParams['figure.figsize']=12,6\n",
    "rcParams['font.size']=14\n",
    "cdfLLH =  np.load('CDF_LLH.npz')\n",
    "CDF = []\n",
    "for item in cdfLLH.iteritems():\n",
    "    CDF.append(item[1])\n",
    "n = CDF[0]\n",
    "b = CDF[1]\n",
    "bin_centers = b[:-1] + 0.5*(b[1:] - b[:-1])\n",
    "\n",
    "f = interp1d(bin_centers, n)\n",
    "chi2 = -2 * np.log(hawcPV*pCluster*(1-f(likelihood)))\n",
    "n,b,o=hist(chi2,bins=100,histtype='step',log=True,color='b',label='All')\n",
    "xlabel(r'$\\chi^2$')\n",
    "#grid(ls='--',which='both')\n",
    "savefig(\"plots/chi2_1year_v2.png\")"
   ]
  },
  {
   "cell_type": "markdown",
   "metadata": {},
   "source": [
    "## Prepare Archival/Simulated Data"
   ]
  },
  {
   "cell_type": "code",
   "execution_count": 3,
   "metadata": {},
   "outputs": [
    {
     "data": {
      "text/html": [
       "<div>\n",
       "<style>\n",
       "    .dataframe thead tr:only-child th {\n",
       "        text-align: right;\n",
       "    }\n",
       "\n",
       "    .dataframe thead th {\n",
       "        text-align: left;\n",
       "    }\n",
       "\n",
       "    .dataframe tbody tr th {\n",
       "        vertical-align: top;\n",
       "    }\n",
       "</style>\n",
       "<table border=\"1\" class=\"dataframe\">\n",
       "  <thead>\n",
       "    <tr style=\"text-align: right;\">\n",
       "      <th></th>\n",
       "      <th>HDec</th>\n",
       "      <th>HRA</th>\n",
       "      <th>HsigmaR</th>\n",
       "      <th>HTime_i</th>\n",
       "      <th>HTime_c</th>\n",
       "      <th>HTime_f</th>\n",
       "      <th>Hduration</th>\n",
       "      <th>Hsig</th>\n",
       "    </tr>\n",
       "  </thead>\n",
       "  <tbody>\n",
       "    <tr>\n",
       "      <th>1</th>\n",
       "      <td>-8.423330</td>\n",
       "      <td>256.377</td>\n",
       "      <td>0.081626</td>\n",
       "      <td>2016-01-01 14:03:17</td>\n",
       "      <td>2016-01-01 16:52:28</td>\n",
       "      <td>2016-01-01 19:41:39</td>\n",
       "      <td>5.63943</td>\n",
       "      <td>2.85261</td>\n",
       "    </tr>\n",
       "    <tr>\n",
       "      <th>27</th>\n",
       "      <td>-19.431800</td>\n",
       "      <td>258.047</td>\n",
       "      <td>0.092014</td>\n",
       "      <td>2016-01-01 14:49:10</td>\n",
       "      <td>2016-01-01 16:59:13</td>\n",
       "      <td>2016-01-01 19:09:16</td>\n",
       "      <td>4.33481</td>\n",
       "      <td>3.08562</td>\n",
       "    </tr>\n",
       "    <tr>\n",
       "      <th>14</th>\n",
       "      <td>-12.673900</td>\n",
       "      <td>258.487</td>\n",
       "      <td>0.092110</td>\n",
       "      <td>2016-01-01 14:24:19</td>\n",
       "      <td>2016-01-01 17:00:55</td>\n",
       "      <td>2016-01-01 19:37:31</td>\n",
       "      <td>5.22007</td>\n",
       "      <td>2.95240</td>\n",
       "    </tr>\n",
       "    <tr>\n",
       "      <th>7</th>\n",
       "      <td>-8.159460</td>\n",
       "      <td>258.882</td>\n",
       "      <td>0.096307</td>\n",
       "      <td>2016-01-01 14:12:34</td>\n",
       "      <td>2016-01-01 17:02:28</td>\n",
       "      <td>2016-01-01 19:52:22</td>\n",
       "      <td>5.66324</td>\n",
       "      <td>3.24719</td>\n",
       "    </tr>\n",
       "    <tr>\n",
       "      <th>3</th>\n",
       "      <td>-0.708832</td>\n",
       "      <td>261.123</td>\n",
       "      <td>0.073197</td>\n",
       "      <td>2016-01-01 14:04:34</td>\n",
       "      <td>2016-01-01 17:11:22</td>\n",
       "      <td>2016-01-01 20:18:10</td>\n",
       "      <td>6.22688</td>\n",
       "      <td>3.03762</td>\n",
       "    </tr>\n",
       "  </tbody>\n",
       "</table>\n",
       "</div>"
      ],
      "text/plain": [
       "         HDec      HRA   HsigmaR             HTime_i             HTime_c  \\\n",
       "1   -8.423330  256.377  0.081626 2016-01-01 14:03:17 2016-01-01 16:52:28   \n",
       "27 -19.431800  258.047  0.092014 2016-01-01 14:49:10 2016-01-01 16:59:13   \n",
       "14 -12.673900  258.487  0.092110 2016-01-01 14:24:19 2016-01-01 17:00:55   \n",
       "7   -8.159460  258.882  0.096307 2016-01-01 14:12:34 2016-01-01 17:02:28   \n",
       "3   -0.708832  261.123  0.073197 2016-01-01 14:04:34 2016-01-01 17:11:22   \n",
       "\n",
       "               HTime_f  Hduration     Hsig  \n",
       "1  2016-01-01 19:41:39    5.63943  2.85261  \n",
       "27 2016-01-01 19:09:16    4.33481  3.08562  \n",
       "14 2016-01-01 19:37:31    5.22007  2.95240  \n",
       "7  2016-01-01 19:52:22    5.66324  3.24719  \n",
       "3  2016-01-01 20:18:10    6.22688  3.03762  "
      ]
     },
     "execution_count": 3,
     "metadata": {},
     "output_type": "execute_result"
    }
   ],
   "source": [
    "# Read HAWC data file\n",
    "dfh = pd.read_csv(\"hawc_data_2.csv\")\n",
    "dfh['HTime_i']=pd.to_datetime(dfh['HTime_i'])\n",
    "dfh['HTime_f']=pd.to_datetime(dfh['HTime_f'])\n",
    "sigma_hawc = stats.lognorm.rvs(0.463632912751, loc=0.0302994104141, scale=0.0741518054165, size=len(dfh), random_state=None)#abs(random.normal(0.11,0.03)) #change HAWC sigmaR to be distributed around 0.1 for now\n",
    "dfh['HsigmaR']=sigma_hawc\n",
    "dfh['HTime_c']=pd.to_datetime(dfh['HTime_c'])\n",
    "dfh = dfh.sort_values(by='HTime_c')\n",
    "dfh.head(5)"
   ]
  },
  {
   "cell_type": "code",
   "execution_count": 4,
   "metadata": {},
   "outputs": [
    {
     "data": {
      "text/html": [
       "<div>\n",
       "<style>\n",
       "    .dataframe thead tr:only-child th {\n",
       "        text-align: right;\n",
       "    }\n",
       "\n",
       "    .dataframe thead th {\n",
       "        text-align: left;\n",
       "    }\n",
       "\n",
       "    .dataframe tbody tr th {\n",
       "        vertical-align: top;\n",
       "    }\n",
       "</style>\n",
       "<table border=\"1\" class=\"dataframe\">\n",
       "  <thead>\n",
       "    <tr style=\"text-align: right;\">\n",
       "      <th></th>\n",
       "      <th>ICDec</th>\n",
       "      <th>ICRA</th>\n",
       "      <th>ICsigmaR</th>\n",
       "      <th>ICtime</th>\n",
       "      <th>ICmsec</th>\n",
       "      <th>ICFPRD</th>\n",
       "    </tr>\n",
       "  </thead>\n",
       "  <tbody>\n",
       "    <tr>\n",
       "      <th>0</th>\n",
       "      <td>-34.7199</td>\n",
       "      <td>205.1050</td>\n",
       "      <td>0.196344</td>\n",
       "      <td>2016-01-01 00:04:57</td>\n",
       "      <td>98664</td>\n",
       "      <td>0.003162</td>\n",
       "    </tr>\n",
       "    <tr>\n",
       "      <th>1</th>\n",
       "      <td>54.3056</td>\n",
       "      <td>107.9430</td>\n",
       "      <td>0.534230</td>\n",
       "      <td>2016-01-01 00:05:40</td>\n",
       "      <td>122278</td>\n",
       "      <td>0.003162</td>\n",
       "    </tr>\n",
       "    <tr>\n",
       "      <th>2</th>\n",
       "      <td>57.3919</td>\n",
       "      <td>108.1390</td>\n",
       "      <td>1.176690</td>\n",
       "      <td>2016-01-01 00:05:48</td>\n",
       "      <td>730722</td>\n",
       "      <td>0.003162</td>\n",
       "    </tr>\n",
       "    <tr>\n",
       "      <th>3</th>\n",
       "      <td>-32.6259</td>\n",
       "      <td>332.9440</td>\n",
       "      <td>0.175290</td>\n",
       "      <td>2016-01-01 00:06:08</td>\n",
       "      <td>981306</td>\n",
       "      <td>0.003162</td>\n",
       "    </tr>\n",
       "    <tr>\n",
       "      <th>4</th>\n",
       "      <td>22.6634</td>\n",
       "      <td>20.1443</td>\n",
       "      <td>2.750110</td>\n",
       "      <td>2016-01-01 00:15:24</td>\n",
       "      <td>288569</td>\n",
       "      <td>0.003162</td>\n",
       "    </tr>\n",
       "  </tbody>\n",
       "</table>\n",
       "</div>"
      ],
      "text/plain": [
       "     ICDec      ICRA  ICsigmaR              ICtime  ICmsec    ICFPRD\n",
       "0 -34.7199  205.1050  0.196344 2016-01-01 00:04:57   98664  0.003162\n",
       "1  54.3056  107.9430  0.534230 2016-01-01 00:05:40  122278  0.003162\n",
       "2  57.3919  108.1390  1.176690 2016-01-01 00:05:48  730722  0.003162\n",
       "3 -32.6259  332.9440  0.175290 2016-01-01 00:06:08  981306  0.003162\n",
       "4  22.6634   20.1443  2.750110 2016-01-01 00:15:24  288569  0.003162"
      ]
     },
     "execution_count": 4,
     "metadata": {},
     "output_type": "execute_result"
    }
   ],
   "source": [
    "# Read IceCube data file\n",
    "dfic = pd.read_csv(\"ic-singlet-jan16.csv\")\n",
    "dfic['ICtime']=pd.to_datetime(dfic['ICtime'])\n",
    "dfic = dfic.sort_values(by='ICtime')\n",
    "dfic['ICFPRD'] = np.power(10,-2.5)#np.power(10,signaless(len(dfic)))\n",
    "dfic.head(5)"
   ]
  },
  {
   "cell_type": "code",
   "execution_count": 5,
   "metadata": {},
   "outputs": [],
   "source": [
    "# Create a list of lists where each secondary list contains the photon event information and all its paired neutrinos\n",
    "# photon: [RA, Dec, SigmaR], neutrino: [RA, Dec, SigmaR, timestamp]\n",
    "minspc=3.5\n",
    "FOV = np.deg2rad(50.)\n",
    "hwcArea = 2.*np.pi*(1-np.cos(FOV))\n",
    "all_event_list=[]\n",
    "for h in dfh.itertuples():\n",
    "    dfw=dfic[(pd.to_datetime(h.HTime_i)<=pd.to_datetime(dfic['ICtime']))&(pd.to_datetime(h.HTime_f)>=pd.to_datetime(dfic['ICtime']))]\n",
    "    event_list=[]\n",
    "    event_list.append([h.HDec,h.HRA,h.HsigmaR,h.Hduration,probBkgHAWC(h.HDec),1-stats.norm.cdf(h.Hsig)])\n",
    "    for ic in dfw.itertuples():\n",
    "        spc=spcang(h.HRA,ic.ICRA,h.HDec,ic.ICDec)\n",
    "        if spc<minspc:\n",
    "            event_list.append([ic.ICDec,ic.ICRA,ic.ICsigmaR,pd.to_datetime(ic.ICtime), 1/(2*np.pi), ic.ICFPRD])\n",
    "    all_event_list.append(event_list)\n",
    "    \n",
    "#Just paired events\n",
    "all_ev_nut = [x for x in all_event_list if len(x)>1]"
   ]
  },
  {
   "cell_type": "code",
   "execution_count": 6,
   "metadata": {},
   "outputs": [
    {
     "data": {
      "text/plain": [
       "2493"
      ]
     },
     "execution_count": 6,
     "metadata": {},
     "output_type": "execute_result"
    }
   ],
   "source": [
    "len(all_ev_nut)"
   ]
  },
  {
   "cell_type": "code",
   "execution_count": 7,
   "metadata": {},
   "outputs": [],
   "source": [
    "# Use Scipy optimizer to find the Maximum likelihood and source position\n",
    "# Case of llh with spatial terms: \n",
    "best_fit_val = []\n",
    "#TempTerm=True\n",
    "for ev in all_ev_nut:\n",
    "    #if TempTerm:\n",
    "    #solution = sc.optimize.minimize(lambda x: -tloglh_time(x[0],x[1],ev),np.array([ev[0][0]+0.1,ev[0][1]+0.1]), method = 'SLSQP')\n",
    "    #else:\n",
    "    solution = optimize.minimize(lambda x: -tloglh(x[0],x[1],ev),np.array([ev[0][0]+0.1,ev[0][1]+0.1]), method = 'SLSQP')#'BFGS')\n",
    "    pcluster = pNuCluster(ev)\n",
    "    psigma = ev[0][5]\n",
    "    \n",
    "    \n",
    "    stderr = 0.\n",
    "    jacerr = 0.\n",
    "    avgdist = 0.\n",
    "    stddev = 0.\n",
    "    j=0\n",
    "    n=0\n",
    "\n",
    "    if solution.success:\n",
    "        res = list(solution.x)\n",
    "        for part in ev:\n",
    "            #print part[0],part[1],part[2],solution.x[0],solution.x[1]\n",
    "            stderr += 1./(part[2]**2)\n",
    "            tmpdist1 = spcang(solution.x[1],part[1],solution.x[0],part[0])/part[2]\n",
    "            tmpdist2 = - 0.5*np.log(2*np.pi*np.deg2rad(part[2])**2) \n",
    "            stddev += spcang(solution.x[1],part[1],solution.x[0],part[0])**2\n",
    "            avgdist +=tmpdist1#+ tmpdist2\n",
    "            #print tmpdist1, tmpdist2\n",
    "            j+=1\n",
    "        #print avgdist,solution.fun\n",
    "        stderr = np.sqrt(1/stderr)\n",
    "        jacerr = np.sqrt(jacerr)\n",
    "        avgdist /= j\n",
    "        stddev /= j\n",
    "        stddev = np.sqrt(stddev)\n",
    "    \n",
    "        res.append(stderr)\n",
    "        #res.append(jacerr)\n",
    "        res.append(-1*solution.fun)\n",
    "        res.append(avgdist)\n",
    "        res.append(stddev)\n",
    "        res.append(len(ev)-1)\n",
    "        res.append(pcluster)\n",
    "        res.append(psigma)\n",
    "        res.append(ev)\n",
    "        best_fit_val.append(res)"
   ]
  },
  {
   "cell_type": "code",
   "execution_count": 12,
   "metadata": {
    "collapsed": true
   },
   "outputs": [],
   "source": [
    "likelihood = np.asarray([x[3] for x in best_fit_val])\n",
    "likelihood_pair = np.asarray([x[3] for x in best_fit_val if len(x[-1]) <= 2])\n",
    "likelihood_mult = np.asarray([x[3] for x in best_fit_val if len(x[-1]) > 2])"
   ]
  },
  {
   "cell_type": "code",
   "execution_count": 10,
   "metadata": {},
   "outputs": [
    {
     "data": {
      "text/plain": [
       "<matplotlib.text.Text at 0x10b31d350>"
      ]
     },
     "execution_count": 10,
     "metadata": {},
     "output_type": "execute_result"
    },
    {
     "data": {
      "image/png": "[encoded data removed]",
      "text/plain": [
       "<matplotlib.figure.Figure at 0x10b333e50>"
      ]
     },
     "metadata": {},
     "output_type": "display_data"
    }
   ],
   "source": [
    "# Plot the histogram of llh values\n",
    "rcParams['figure.figsize']=12,8\n",
    "_=plt.hist(likelihood,\n",
    "         #cumulative=True,normed=1,histtype='step',\n",
    "         log=True,\n",
    "         color='b',\n",
    "         lw=1.5,\n",
    "         bins=200,\n",
    "         range=[0,50],\n",
    "         histtype='step',\n",
    "         label=r'all events')\n",
    "_=plt.hist(likelihood_pair,\n",
    "         #cumulative=True,normed=1,histtype='step',\n",
    "         log=True,\n",
    "         color='r',\n",
    "         lw=1.5,\n",
    "         bins=200,\n",
    "         range=[0,50],\n",
    "         #alpha=0.5,\n",
    "         histtype='step',\n",
    "         label=r'pairs')\n",
    "_=plt.hist(likelihood_mult,\n",
    "         #cumulative=True,normed=1,histtype='step',\n",
    "         log=True,\n",
    "         color='g',\n",
    "         lw=1.5,\n",
    "         bins=200,\n",
    "         range=[0,50],\n",
    "         #alpha=0.5,\n",
    "         histtype='step',\n",
    "         label=r'multiplets')\n",
    "l=legend(bbox_to_anchor=(0.26,0.94),loc=1,borderaxespad=0,numpoints=1,fancybox=True,\n",
    "         handletextpad=1,handlelength=2,prop={'size':14})\n",
    "xlabel(r'llh',fontsize=16)\n",
    "#xscale('log')"
   ]
  },
  {
   "cell_type": "code",
   "execution_count": null,
   "metadata": {
    "collapsed": true
   },
   "outputs": [],
   "source": []
  }
 ],
 "metadata": {
  "kernelspec": {
   "display_name": "Python 2",
   "language": "python",
   "name": "python2"
  },
  "language_info": {
   "codemirror_mode": {
    "name": "ipython",
    "version": 2
   },
   "file_extension": ".py",
   "mimetype": "text/x-python",
   "name": "python",
   "nbconvert_exporter": "python",
   "pygments_lexer": "ipython2",
   "version": "2.7.13"
  }
 },
 "nbformat": 4,
 "nbformat_minor": 2
}
