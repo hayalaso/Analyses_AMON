{
 "cells": [
  {
   "cell_type": "code",
   "execution_count": 1,
   "metadata": {},
   "outputs": [
    {
     "name": "stdout",
     "output_type": "stream",
     "text": [
      "Populating the interactive namespace from numpy and matplotlib\n"
     ]
    }
   ],
   "source": [
    "%pylab inline\n",
    "#import numpy as np\n",
    "import pandas as pd\n",
    "#import matplotlib\n",
    "#import matplotlib.pyplot as plt\n",
    "#import matplotlib.dates as mdates\n",
    "import random\n",
    "from astropy.time import Time\n",
    "from scipy import stats"
   ]
  },
  {
   "cell_type": "code",
   "execution_count": 4,
   "metadata": {},
   "outputs": [
    {
     "name": "stdout",
     "output_type": "stream",
     "text": [
      "16656\n"
     ]
    }
   ],
   "source": [
    "# 1 year of data\n",
    "df = pd.read_csv('ic-singlet-jan16.csv')\n",
    "print len(df)"
   ]
  },
  {
   "cell_type": "code",
   "execution_count": 15,
   "metadata": {},
   "outputs": [
    {
     "data": {
      "text/html": [
       "<div>\n",
       "<style>\n",
       "    .dataframe thead tr:only-child th {\n",
       "        text-align: right;\n",
       "    }\n",
       "\n",
       "    .dataframe thead th {\n",
       "        text-align: left;\n",
       "    }\n",
       "\n",
       "    .dataframe tbody tr th {\n",
       "        vertical-align: top;\n",
       "    }\n",
       "</style>\n",
       "<table border=\"1\" class=\"dataframe\">\n",
       "  <thead>\n",
       "    <tr style=\"text-align: right;\">\n",
       "      <th></th>\n",
       "      <th>ICDec</th>\n",
       "      <th>ICRA</th>\n",
       "      <th>ICsigmaR</th>\n",
       "      <th>ICtime</th>\n",
       "      <th>ICmsec</th>\n",
       "    </tr>\n",
       "  </thead>\n",
       "  <tbody>\n",
       "    <tr>\n",
       "      <th>0</th>\n",
       "      <td>-34.7199</td>\n",
       "      <td>205.1050</td>\n",
       "      <td>0.196344</td>\n",
       "      <td>2016-01-01 00:04:57</td>\n",
       "      <td>98664</td>\n",
       "    </tr>\n",
       "    <tr>\n",
       "      <th>1</th>\n",
       "      <td>54.3056</td>\n",
       "      <td>107.9430</td>\n",
       "      <td>0.534230</td>\n",
       "      <td>2016-01-01 00:05:40</td>\n",
       "      <td>122278</td>\n",
       "    </tr>\n",
       "    <tr>\n",
       "      <th>2</th>\n",
       "      <td>57.3919</td>\n",
       "      <td>108.1390</td>\n",
       "      <td>1.176690</td>\n",
       "      <td>2016-01-01 00:05:48</td>\n",
       "      <td>730722</td>\n",
       "    </tr>\n",
       "    <tr>\n",
       "      <th>3</th>\n",
       "      <td>-32.6259</td>\n",
       "      <td>332.9440</td>\n",
       "      <td>0.175290</td>\n",
       "      <td>2016-01-01 00:06:08</td>\n",
       "      <td>981306</td>\n",
       "    </tr>\n",
       "    <tr>\n",
       "      <th>4</th>\n",
       "      <td>22.6634</td>\n",
       "      <td>20.1443</td>\n",
       "      <td>2.750110</td>\n",
       "      <td>2016-01-01 00:15:24</td>\n",
       "      <td>288569</td>\n",
       "    </tr>\n",
       "  </tbody>\n",
       "</table>\n",
       "</div>"
      ],
      "text/plain": [
       "     ICDec      ICRA  ICsigmaR               ICtime  ICmsec\n",
       "0 -34.7199  205.1050  0.196344  2016-01-01 00:04:57   98664\n",
       "1  54.3056  107.9430  0.534230  2016-01-01 00:05:40  122278\n",
       "2  57.3919  108.1390  1.176690  2016-01-01 00:05:48  730722\n",
       "3 -32.6259  332.9440  0.175290  2016-01-01 00:06:08  981306\n",
       "4  22.6634   20.1443  2.750110  2016-01-01 00:15:24  288569"
      ]
     },
     "execution_count": 15,
     "metadata": {},
     "output_type": "execute_result"
    }
   ],
   "source": [
    "df.head(5)"
   ]
  },
  {
   "cell_type": "code",
   "execution_count": 16,
   "metadata": {
    "collapsed": true
   },
   "outputs": [],
   "source": [
    "# scramble IceCube data\n",
    "for i in range(1):\n",
    "    df2 = df.reindex(np.random.permutation(df.index))\n",
    "    df2.reset_index(drop=True, inplace=True)\n",
    "    df2[['ICDec','ICsigmaR']] = df[['ICDec','ICsigmaR']]\n",
    "    df2.columns=['ICDec','ICRA','ICsigmaR','ICtime','ICmsec']\n",
    "    df2.to_csv(\"IC-Jan16-energy-scrambled{}.csv\".format(i),index=False,encoding='utf-8')"
   ]
  },
  {
   "cell_type": "code",
   "execution_count": 17,
   "metadata": {},
   "outputs": [
    {
     "data": {
      "text/html": [
       "<div>\n",
       "<style>\n",
       "    .dataframe thead tr:only-child th {\n",
       "        text-align: right;\n",
       "    }\n",
       "\n",
       "    .dataframe thead th {\n",
       "        text-align: left;\n",
       "    }\n",
       "\n",
       "    .dataframe tbody tr th {\n",
       "        vertical-align: top;\n",
       "    }\n",
       "</style>\n",
       "<table border=\"1\" class=\"dataframe\">\n",
       "  <thead>\n",
       "    <tr style=\"text-align: right;\">\n",
       "      <th></th>\n",
       "      <th>ICDec</th>\n",
       "      <th>ICRA</th>\n",
       "      <th>ICsigmaR</th>\n",
       "      <th>ICtime</th>\n",
       "      <th>ICmsec</th>\n",
       "    </tr>\n",
       "  </thead>\n",
       "  <tbody>\n",
       "    <tr>\n",
       "      <th>0</th>\n",
       "      <td>-34.7199</td>\n",
       "      <td>195.1500</td>\n",
       "      <td>0.196344</td>\n",
       "      <td>2016-01-01 21:31:05</td>\n",
       "      <td>137476</td>\n",
       "    </tr>\n",
       "    <tr>\n",
       "      <th>1</th>\n",
       "      <td>54.3056</td>\n",
       "      <td>227.8000</td>\n",
       "      <td>0.534230</td>\n",
       "      <td>2016-01-23 18:44:09</td>\n",
       "      <td>377443</td>\n",
       "    </tr>\n",
       "    <tr>\n",
       "      <th>2</th>\n",
       "      <td>57.3919</td>\n",
       "      <td>122.4520</td>\n",
       "      <td>1.176690</td>\n",
       "      <td>2016-01-08 18:51:15</td>\n",
       "      <td>812830</td>\n",
       "    </tr>\n",
       "    <tr>\n",
       "      <th>3</th>\n",
       "      <td>-32.6259</td>\n",
       "      <td>42.3355</td>\n",
       "      <td>0.175290</td>\n",
       "      <td>2016-01-04 08:39:25</td>\n",
       "      <td>247456</td>\n",
       "    </tr>\n",
       "    <tr>\n",
       "      <th>4</th>\n",
       "      <td>22.6634</td>\n",
       "      <td>319.0150</td>\n",
       "      <td>2.750110</td>\n",
       "      <td>2016-01-14 11:09:50</td>\n",
       "      <td>120220</td>\n",
       "    </tr>\n",
       "  </tbody>\n",
       "</table>\n",
       "</div>"
      ],
      "text/plain": [
       "     ICDec      ICRA  ICsigmaR               ICtime  ICmsec\n",
       "0 -34.7199  195.1500  0.196344  2016-01-01 21:31:05  137476\n",
       "1  54.3056  227.8000  0.534230  2016-01-23 18:44:09  377443\n",
       "2  57.3919  122.4520  1.176690  2016-01-08 18:51:15  812830\n",
       "3 -32.6259   42.3355  0.175290  2016-01-04 08:39:25  247456\n",
       "4  22.6634  319.0150  2.750110  2016-01-14 11:09:50  120220"
      ]
     },
     "execution_count": 17,
     "metadata": {},
     "output_type": "execute_result"
    }
   ],
   "source": [
    "df2.head(5)"
   ]
  },
  {
   "cell_type": "code",
   "execution_count": 18,
   "metadata": {
    "collapsed": true
   },
   "outputs": [],
   "source": [
    "#file with no energy\n",
    "for i in range(1000,1001):\n",
    "    df2 = df.reindex(np.random.permutation(df.index))\n",
    "    df2.reset_index(drop=True, inplace=True)\n",
    "    df2[['ICDec','ICsigmaR']] = df[['ICDec','ICsigmaR']]\n",
    "    df2.columns=['ICDec','ICRA','ICsigmaR','ICtime','ICmsec']\n",
    "    df2.to_csv(\"IC_scrambled/{}.csv\".format(i),\n",
    "          index=False,encoding='utf-8')"
   ]
  },
  {
   "cell_type": "code",
   "execution_count": 19,
   "metadata": {
    "collapsed": true
   },
   "outputs": [],
   "source": [
    "#Scrambling HAWC\n",
    "df=pd.read_csv(\"hawc_data_2.csv\",delimiter=\",\")\n",
    "df['HTime_c']=pd.to_datetime(df['HTime_c'])\n",
    "df = df.sort_values(by='HTime_c')"
   ]
  },
  {
   "cell_type": "code",
   "execution_count": 20,
   "metadata": {},
   "outputs": [
    {
     "data": {
      "text/html": [
       "<div>\n",
       "<style>\n",
       "    .dataframe thead tr:only-child th {\n",
       "        text-align: right;\n",
       "    }\n",
       "\n",
       "    .dataframe thead th {\n",
       "        text-align: left;\n",
       "    }\n",
       "\n",
       "    .dataframe tbody tr th {\n",
       "        vertical-align: top;\n",
       "    }\n",
       "</style>\n",
       "<table border=\"1\" class=\"dataframe\">\n",
       "  <thead>\n",
       "    <tr style=\"text-align: right;\">\n",
       "      <th></th>\n",
       "      <th>HDec</th>\n",
       "      <th>HRA</th>\n",
       "      <th>HsigmaR</th>\n",
       "      <th>HTime_i</th>\n",
       "      <th>HTime_c</th>\n",
       "      <th>HTime_f</th>\n",
       "      <th>Hduration</th>\n",
       "      <th>Hsig</th>\n",
       "    </tr>\n",
       "  </thead>\n",
       "  <tbody>\n",
       "    <tr>\n",
       "      <th>1</th>\n",
       "      <td>-8.423330</td>\n",
       "      <td>256.377</td>\n",
       "      <td>0.75</td>\n",
       "      <td>2016-01-01 14:03:17</td>\n",
       "      <td>2016-01-01 16:52:28</td>\n",
       "      <td>2016-01-01 19:41:39</td>\n",
       "      <td>5.63943</td>\n",
       "      <td>2.85261</td>\n",
       "    </tr>\n",
       "    <tr>\n",
       "      <th>27</th>\n",
       "      <td>-19.431800</td>\n",
       "      <td>258.047</td>\n",
       "      <td>0.75</td>\n",
       "      <td>2016-01-01 14:49:10</td>\n",
       "      <td>2016-01-01 16:59:13</td>\n",
       "      <td>2016-01-01 19:09:16</td>\n",
       "      <td>4.33481</td>\n",
       "      <td>3.08562</td>\n",
       "    </tr>\n",
       "    <tr>\n",
       "      <th>14</th>\n",
       "      <td>-12.673900</td>\n",
       "      <td>258.487</td>\n",
       "      <td>0.75</td>\n",
       "      <td>2016-01-01 14:24:19</td>\n",
       "      <td>2016-01-01 17:00:55</td>\n",
       "      <td>2016-01-01 19:37:31</td>\n",
       "      <td>5.22007</td>\n",
       "      <td>2.95240</td>\n",
       "    </tr>\n",
       "    <tr>\n",
       "      <th>7</th>\n",
       "      <td>-8.159460</td>\n",
       "      <td>258.882</td>\n",
       "      <td>0.75</td>\n",
       "      <td>2016-01-01 14:12:34</td>\n",
       "      <td>2016-01-01 17:02:28</td>\n",
       "      <td>2016-01-01 19:52:22</td>\n",
       "      <td>5.66324</td>\n",
       "      <td>3.24719</td>\n",
       "    </tr>\n",
       "    <tr>\n",
       "      <th>3</th>\n",
       "      <td>-0.708832</td>\n",
       "      <td>261.123</td>\n",
       "      <td>0.75</td>\n",
       "      <td>2016-01-01 14:04:34</td>\n",
       "      <td>2016-01-01 17:11:22</td>\n",
       "      <td>2016-01-01 20:18:10</td>\n",
       "      <td>6.22688</td>\n",
       "      <td>3.03762</td>\n",
       "    </tr>\n",
       "  </tbody>\n",
       "</table>\n",
       "</div>"
      ],
      "text/plain": [
       "         HDec      HRA  HsigmaR              HTime_i             HTime_c  \\\n",
       "1   -8.423330  256.377     0.75  2016-01-01 14:03:17 2016-01-01 16:52:28   \n",
       "27 -19.431800  258.047     0.75  2016-01-01 14:49:10 2016-01-01 16:59:13   \n",
       "14 -12.673900  258.487     0.75  2016-01-01 14:24:19 2016-01-01 17:00:55   \n",
       "7   -8.159460  258.882     0.75  2016-01-01 14:12:34 2016-01-01 17:02:28   \n",
       "3   -0.708832  261.123     0.75  2016-01-01 14:04:34 2016-01-01 17:11:22   \n",
       "\n",
       "                HTime_f  Hduration     Hsig  \n",
       "1   2016-01-01 19:41:39    5.63943  2.85261  \n",
       "27  2016-01-01 19:09:16    4.33481  3.08562  \n",
       "14  2016-01-01 19:37:31    5.22007  2.95240  \n",
       "7   2016-01-01 19:52:22    5.66324  3.24719  \n",
       "3   2016-01-01 20:18:10    6.22688  3.03762  "
      ]
     },
     "execution_count": 20,
     "metadata": {},
     "output_type": "execute_result"
    }
   ],
   "source": [
    "df.head(5)"
   ]
  },
  {
   "cell_type": "code",
   "execution_count": 21,
   "metadata": {
    "collapsed": true
   },
   "outputs": [],
   "source": [
    "for i in range(0,1200):\n",
    "    df2 = df.reindex(np.random.permutation(df.index))\n",
    "    df2.reset_index(drop=True, inplace=True)\n",
    "    df2[['HDec','Hduration']] = df[['HDec','Hduration']]\n",
    "    df2[['HTime_i']] = pd.to_datetime(df2.HTime_c)-pd.to_timedelta(df2.Hduration/2, unit='h')\n",
    "    df2[['HTime_f']] = pd.to_datetime(df2.HTime_c)+pd.to_timedelta(df2.Hduration/2, unit='h')\n",
    "    df2.columns=['HDec','HRA','HsigmaR','HTime_i','HTime_c','HTime_f','Hduration','Hsig']\n",
    "    df2.to_csv(\"HAWC_scrambled/{}.csv\".format(i),\n",
    "          index=False,encoding='utf-8')"
   ]
  },
  {
   "cell_type": "markdown",
   "metadata": {},
   "source": [
    "## New IC data with FPRD and Sigs"
   ]
  },
  {
   "cell_type": "code",
   "execution_count": 27,
   "metadata": {},
   "outputs": [
    {
     "data": {
      "text/plain": [
       "['cr_err', 'sigs', 'ra', 'dec', 'fprd', 'mjds']"
      ]
     },
     "execution_count": 27,
     "metadata": {},
     "output_type": "execute_result"
    }
   ],
   "source": [
    "data = np.load('2015singlets_data_burn_3339043sec_forHAWCcoincs.npz')\n",
    "data.files"
   ]
  },
  {
   "cell_type": "code",
   "execution_count": 28,
   "metadata": {},
   "outputs": [],
   "source": [
    "values = []\n",
    "names = ['ICsigmaR','ICsigs','ICRA','ICDec','ICFPRD','ICtime','ICmsec']\n",
    "for item in data.iteritems():\n",
    "    values.append(item[1])"
   ]
  },
  {
   "cell_type": "code",
   "execution_count": 29,
   "metadata": {},
   "outputs": [],
   "source": [
    "values=np.asarray(values).T.tolist()"
   ]
  },
  {
   "cell_type": "code",
   "execution_count": 30,
   "metadata": {},
   "outputs": [],
   "source": [
    "for item in values:\n",
    "    t = Time(stats.uniform.rvs(loc=57388.0,scale=38.6,size=1)[0],format='mjd')\n",
    "    t.format = 'iso'\n",
    "    item[5] = t.value[0:19]\n",
    "    item.append(t.value[20:])"
   ]
  },
  {
   "cell_type": "code",
   "execution_count": 31,
   "metadata": {},
   "outputs": [],
   "source": [
    "df = pd.DataFrame.from_records(values,columns=names)"
   ]
  },
  {
   "cell_type": "code",
   "execution_count": 32,
   "metadata": {},
   "outputs": [],
   "source": [
    "df['ICRA'] = np.rad2deg(df['ICRA'])\n",
    "df['ICDec'] = np.rad2deg(df['ICDec'])\n",
    "df['ICsigmaR'] = np.rad2deg(df['ICsigmaR'])"
   ]
  },
  {
   "cell_type": "code",
   "execution_count": 33,
   "metadata": {},
   "outputs": [],
   "source": [
    "df.columns = ['ICsigmaR','ICsigs','ICRA','ICDec','ICFPRD','ICtime','ICmsec']# ['ICDec','ICRA','ICsigmaR','ICtime','ICmsec','ICFPRD','ICsigs']\n",
    "df = df[['ICDec','ICRA','ICsigmaR','ICtime','ICmsec','ICFPRD','ICsigs']]\n"
   ]
  },
  {
   "cell_type": "code",
   "execution_count": 35,
   "metadata": {},
   "outputs": [],
   "source": [
    "for i in range(0,1200):\n",
    "    df2 = df.reindex(np.random.permutation(df.index))\n",
    "    df2.reset_index(drop=True, inplace=True)\n",
    "    df2[['ICDec','ICsigmaR']] = df[['ICDec','ICsigmaR']]\n",
    "    df2.columns=['ICDec','ICRA','ICsigmaR','ICtime','ICmsec','ICFPRD','ICsigs']\n",
    "    df2.to_csv(\"IC_scrambled2/{}.csv\".format(i),\n",
    "          index=False,encoding='utf-8')"
   ]
  },
  {
   "cell_type": "code",
   "execution_count": 55,
   "metadata": {},
   "outputs": [
    {
     "data": {
      "text/plain": [
       "<matplotlib.colorbar.Colorbar at 0x1191a6a10>"
      ]
     },
     "execution_count": 55,
     "metadata": {},
     "output_type": "execute_result"
    },
    {
     "data": {
      "image/png": "[encoded data removed]",
      "text/plain": [
       "<matplotlib.figure.Figure at 0x119188690>"
      ]
     },
     "metadata": {},
     "output_type": "display_data"
    }
   ],
   "source": [
    "hist2d(df.ICDec,df.ICRA,bins=[100,50],weights=(1./np.cos(np.deg2rad(df.ICDec))),cmax=50)\n",
    "colorbar()"
   ]
  },
  {
   "cell_type": "code",
   "execution_count": 56,
   "metadata": {},
   "outputs": [
    {
     "data": {
      "image/png": "[encoded data removed]",
      "text/plain": [
       "<matplotlib.figure.Figure at 0x11938d190>"
      ]
     },
     "metadata": {},
     "output_type": "display_data"
    }
   ],
   "source": [
    "rcParams['figure.figsize']=10,8\n",
    "rcParams['font.size']=12\n",
    "fig, ax1 = plt.subplots()\n",
    "l=ax1.hist(df.ICRA,bins=50,histtype='step',normed=True,color='blue')\n",
    "ax1.set_xlabel('Dec.',size=14)\n",
    "ax1.tick_params('y', colors='b')\n",
    "\n",
    "ax2 = ax1.twinx()\n",
    "d=ax2.hist(df.ICRA,bins=1000,histtype='step',normed=True,cumulative=True,color='red')\n",
    "ax2.tick_params('y', colors='r')"
   ]
  },
  {
   "cell_type": "code",
   "execution_count": 61,
   "metadata": {},
   "outputs": [
    {
     "data": {
      "image/png": "[encoded data removed]",
      "text/plain": [
       "<matplotlib.figure.Figure at 0x119cc8450>"
      ]
     },
     "metadata": {},
     "output_type": "display_data"
    }
   ],
   "source": [
    "rcParams['figure.figsize']=10,8\n",
    "rcParams['font.size']=12\n",
    "fig, ax1 = plt.subplots()\n",
    "l=ax1.hist(df.ICDec,bins=50,histtype='step',normed=True,color='blue',weights=1./np.cos(np.deg2rad(df.ICDec)))\n",
    "ax1.set_xlabel('Dec.',size=14)\n",
    "ax1.tick_params('y', colors='b')\n",
    "\n",
    "ax2 = ax1.twinx()\n",
    "d=ax2.hist(df.ICDec,bins=1000,histtype='step',normed=True,cumulative=True,color='red',weights=1./np.cos(np.deg2rad(df.ICDec)))\n",
    "ax2.tick_params('y', colors='r')"
   ]
  },
  {
   "cell_type": "code",
   "execution_count": 63,
   "metadata": {},
   "outputs": [
    {
     "data": {
      "text/plain": [
       "0.006688742852368179"
      ]
     },
     "execution_count": 63,
     "metadata": {},
     "output_type": "execute_result"
    }
   ],
   "source": [
    "len(df)/3339043."
   ]
  },
  {
   "cell_type": "code",
   "execution_count": 65,
   "metadata": {},
   "outputs": [
    {
     "data": {
      "text/plain": [
       "22334"
      ]
     },
     "execution_count": 65,
     "metadata": {},
     "output_type": "execute_result"
    }
   ],
   "source": [
    "len(df2)"
   ]
  },
  {
   "cell_type": "code",
   "execution_count": null,
   "metadata": {
    "collapsed": true
   },
   "outputs": [],
   "source": []
  }
 ],
 "metadata": {
  "kernelspec": {
   "display_name": "Python 2",
   "language": "python",
   "name": "python2"
  },
  "language_info": {
   "codemirror_mode": {
    "name": "ipython",
    "version": 2
   },
   "file_extension": ".py",
   "mimetype": "text/x-python",
   "name": "python",
   "nbconvert_exporter": "python",
   "pygments_lexer": "ipython2",
   "version": "2.7.13"
  }
 },
 "nbformat": 4,
 "nbformat_minor": 2
}
