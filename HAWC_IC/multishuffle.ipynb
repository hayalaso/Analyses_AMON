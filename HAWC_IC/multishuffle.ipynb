{
 "cells": [
  {
   "cell_type": "code",
   "execution_count": 2,
   "metadata": {
    "collapsed": true
   },
   "outputs": [],
   "source": [
    "import numpy as np\n",
    "import pandas as pd\n",
    "import matplotlib\n",
    "import matplotlib.pyplot as plt\n",
    "import matplotlib.dates as mdates\n",
    "import random"
   ]
  },
  {
   "cell_type": "code",
   "execution_count": 3,
   "metadata": {
    "collapsed": true
   },
   "outputs": [],
   "source": [
    "# 1 year of data\n",
    "df = pd.read_csv('ic-singlet-jan16.csv')"
   ]
  },
  {
   "cell_type": "code",
   "execution_count": 4,
   "metadata": {},
   "outputs": [
    {
     "data": {
      "text/html": [
       "<div>\n",
       "<style>\n",
       "    .dataframe thead tr:only-child th {\n",
       "        text-align: right;\n",
       "    }\n",
       "\n",
       "    .dataframe thead th {\n",
       "        text-align: left;\n",
       "    }\n",
       "\n",
       "    .dataframe tbody tr th {\n",
       "        vertical-align: top;\n",
       "    }\n",
       "</style>\n",
       "<table border=\"1\" class=\"dataframe\">\n",
       "  <thead>\n",
       "    <tr style=\"text-align: right;\">\n",
       "      <th></th>\n",
       "      <th>ICDec</th>\n",
       "      <th>ICRA</th>\n",
       "      <th>ICsigmaR</th>\n",
       "      <th>ICtime</th>\n",
       "      <th>ICmsec</th>\n",
       "    </tr>\n",
       "  </thead>\n",
       "  <tbody>\n",
       "    <tr>\n",
       "      <th>0</th>\n",
       "      <td>-34.7199</td>\n",
       "      <td>205.1050</td>\n",
       "      <td>0.196344</td>\n",
       "      <td>2016-01-01 00:04:57</td>\n",
       "      <td>98664</td>\n",
       "    </tr>\n",
       "    <tr>\n",
       "      <th>1</th>\n",
       "      <td>54.3056</td>\n",
       "      <td>107.9430</td>\n",
       "      <td>0.534230</td>\n",
       "      <td>2016-01-01 00:05:40</td>\n",
       "      <td>122278</td>\n",
       "    </tr>\n",
       "    <tr>\n",
       "      <th>2</th>\n",
       "      <td>57.3919</td>\n",
       "      <td>108.1390</td>\n",
       "      <td>1.176690</td>\n",
       "      <td>2016-01-01 00:05:48</td>\n",
       "      <td>730722</td>\n",
       "    </tr>\n",
       "    <tr>\n",
       "      <th>3</th>\n",
       "      <td>-32.6259</td>\n",
       "      <td>332.9440</td>\n",
       "      <td>0.175290</td>\n",
       "      <td>2016-01-01 00:06:08</td>\n",
       "      <td>981306</td>\n",
       "    </tr>\n",
       "    <tr>\n",
       "      <th>4</th>\n",
       "      <td>22.6634</td>\n",
       "      <td>20.1443</td>\n",
       "      <td>2.750110</td>\n",
       "      <td>2016-01-01 00:15:24</td>\n",
       "      <td>288569</td>\n",
       "    </tr>\n",
       "  </tbody>\n",
       "</table>\n",
       "</div>"
      ],
      "text/plain": [
       "     ICDec      ICRA  ICsigmaR               ICtime  ICmsec\n",
       "0 -34.7199  205.1050  0.196344  2016-01-01 00:04:57   98664\n",
       "1  54.3056  107.9430  0.534230  2016-01-01 00:05:40  122278\n",
       "2  57.3919  108.1390  1.176690  2016-01-01 00:05:48  730722\n",
       "3 -32.6259  332.9440  0.175290  2016-01-01 00:06:08  981306\n",
       "4  22.6634   20.1443  2.750110  2016-01-01 00:15:24  288569"
      ]
     },
     "execution_count": 4,
     "metadata": {},
     "output_type": "execute_result"
    }
   ],
   "source": [
    "df.head(5)"
   ]
  },
  {
   "cell_type": "code",
   "execution_count": 6,
   "metadata": {
    "collapsed": true
   },
   "outputs": [],
   "source": [
    "# scramble IceCube data\n",
    "for i in range(1):\n",
    "    df2 = df.reindex(np.random.permutation(df.index))\n",
    "    df2.reset_index(drop=True, inplace=True)\n",
    "    df2[['ICDec','ICsigmaR']] = df[['ICDec','ICsigmaR']]\n",
    "    df2.columns=['ICDec','ICRA','ICsigmaR','ICtime','ICmsec']\n",
    "    df2.to_csv(\"IC-Jan16-energy-scrambled{}.csv\".format(i),index=False,encoding='utf-8')"
   ]
  },
  {
   "cell_type": "code",
   "execution_count": 7,
   "metadata": {},
   "outputs": [
    {
     "data": {
      "text/html": [
       "<div>\n",
       "<style>\n",
       "    .dataframe thead tr:only-child th {\n",
       "        text-align: right;\n",
       "    }\n",
       "\n",
       "    .dataframe thead th {\n",
       "        text-align: left;\n",
       "    }\n",
       "\n",
       "    .dataframe tbody tr th {\n",
       "        vertical-align: top;\n",
       "    }\n",
       "</style>\n",
       "<table border=\"1\" class=\"dataframe\">\n",
       "  <thead>\n",
       "    <tr style=\"text-align: right;\">\n",
       "      <th></th>\n",
       "      <th>ICDec</th>\n",
       "      <th>ICRA</th>\n",
       "      <th>ICsigmaR</th>\n",
       "      <th>ICtime</th>\n",
       "      <th>ICmsec</th>\n",
       "    </tr>\n",
       "  </thead>\n",
       "  <tbody>\n",
       "    <tr>\n",
       "      <th>0</th>\n",
       "      <td>-34.7199</td>\n",
       "      <td>204.8430</td>\n",
       "      <td>0.196344</td>\n",
       "      <td>2016-01-22 07:53:49</td>\n",
       "      <td>30561</td>\n",
       "    </tr>\n",
       "    <tr>\n",
       "      <th>1</th>\n",
       "      <td>54.3056</td>\n",
       "      <td>93.3234</td>\n",
       "      <td>0.534230</td>\n",
       "      <td>2016-01-15 02:49:11</td>\n",
       "      <td>63385</td>\n",
       "    </tr>\n",
       "    <tr>\n",
       "      <th>2</th>\n",
       "      <td>57.3919</td>\n",
       "      <td>348.7610</td>\n",
       "      <td>1.176690</td>\n",
       "      <td>2016-01-14 11:03:47</td>\n",
       "      <td>547010</td>\n",
       "    </tr>\n",
       "    <tr>\n",
       "      <th>3</th>\n",
       "      <td>-32.6259</td>\n",
       "      <td>214.2330</td>\n",
       "      <td>0.175290</td>\n",
       "      <td>2016-01-26 02:02:03</td>\n",
       "      <td>890572</td>\n",
       "    </tr>\n",
       "    <tr>\n",
       "      <th>4</th>\n",
       "      <td>22.6634</td>\n",
       "      <td>318.6030</td>\n",
       "      <td>2.750110</td>\n",
       "      <td>2016-01-18 05:01:19</td>\n",
       "      <td>385313</td>\n",
       "    </tr>\n",
       "  </tbody>\n",
       "</table>\n",
       "</div>"
      ],
      "text/plain": [
       "     ICDec      ICRA  ICsigmaR               ICtime  ICmsec\n",
       "0 -34.7199  204.8430  0.196344  2016-01-22 07:53:49   30561\n",
       "1  54.3056   93.3234  0.534230  2016-01-15 02:49:11   63385\n",
       "2  57.3919  348.7610  1.176690  2016-01-14 11:03:47  547010\n",
       "3 -32.6259  214.2330  0.175290  2016-01-26 02:02:03  890572\n",
       "4  22.6634  318.6030  2.750110  2016-01-18 05:01:19  385313"
      ]
     },
     "execution_count": 7,
     "metadata": {},
     "output_type": "execute_result"
    }
   ],
   "source": [
    "df2.head(5)"
   ]
  },
  {
   "cell_type": "code",
   "execution_count": 8,
   "metadata": {
    "collapsed": true
   },
   "outputs": [],
   "source": [
    "#file with no energy\n",
    "for i in range(1000):\n",
    "    df2 = df.reindex(np.random.permutation(df.index))\n",
    "    df2.reset_index(drop=True, inplace=True)\n",
    "    df2[['ICDec','ICsigmaR']] = df[['ICDec','ICsigmaR']]\n",
    "    df2.columns=['ICDec','ICRA','ICsigmaR','ICtime','ICmsec']\n",
    "    df2.to_csv(\"IC_scrambled/{}.csv\".format(i),\n",
    "          index=False,encoding='utf-8')"
   ]
  },
  {
   "cell_type": "code",
   "execution_count": 3,
   "metadata": {},
   "outputs": [],
   "source": [
    "#Scrambling HAWC\n",
    "df=pd.read_csv(\"hawc_data_2.csv\",delimiter=\",\")\n",
    "df['HTime_c']=pd.to_datetime(df['HTime_c'])\n",
    "df = df.sort_values(by='HTime_c')"
   ]
  },
  {
   "cell_type": "code",
   "execution_count": 4,
   "metadata": {},
   "outputs": [
    {
     "data": {
      "text/html": [
       "<div>\n",
       "<style>\n",
       "    .dataframe thead tr:only-child th {\n",
       "        text-align: right;\n",
       "    }\n",
       "\n",
       "    .dataframe thead th {\n",
       "        text-align: left;\n",
       "    }\n",
       "\n",
       "    .dataframe tbody tr th {\n",
       "        vertical-align: top;\n",
       "    }\n",
       "</style>\n",
       "<table border=\"1\" class=\"dataframe\">\n",
       "  <thead>\n",
       "    <tr style=\"text-align: right;\">\n",
       "      <th></th>\n",
       "      <th>HDec</th>\n",
       "      <th>HRA</th>\n",
       "      <th>HsigmaR</th>\n",
       "      <th>HTime_i</th>\n",
       "      <th>HTime_c</th>\n",
       "      <th>HTime_f</th>\n",
       "      <th>Hduration</th>\n",
       "      <th>Hsig</th>\n",
       "    </tr>\n",
       "  </thead>\n",
       "  <tbody>\n",
       "    <tr>\n",
       "      <th>1</th>\n",
       "      <td>-8.423330</td>\n",
       "      <td>256.377</td>\n",
       "      <td>0.75</td>\n",
       "      <td>2016-01-01 14:03:17</td>\n",
       "      <td>2016-01-01 16:52:28</td>\n",
       "      <td>2016-01-01 19:41:39</td>\n",
       "      <td>5.63943</td>\n",
       "      <td>2.85261</td>\n",
       "    </tr>\n",
       "    <tr>\n",
       "      <th>27</th>\n",
       "      <td>-19.431800</td>\n",
       "      <td>258.047</td>\n",
       "      <td>0.75</td>\n",
       "      <td>2016-01-01 14:49:10</td>\n",
       "      <td>2016-01-01 16:59:13</td>\n",
       "      <td>2016-01-01 19:09:16</td>\n",
       "      <td>4.33481</td>\n",
       "      <td>3.08562</td>\n",
       "    </tr>\n",
       "    <tr>\n",
       "      <th>14</th>\n",
       "      <td>-12.673900</td>\n",
       "      <td>258.487</td>\n",
       "      <td>0.75</td>\n",
       "      <td>2016-01-01 14:24:19</td>\n",
       "      <td>2016-01-01 17:00:55</td>\n",
       "      <td>2016-01-01 19:37:31</td>\n",
       "      <td>5.22007</td>\n",
       "      <td>2.95240</td>\n",
       "    </tr>\n",
       "    <tr>\n",
       "      <th>7</th>\n",
       "      <td>-8.159460</td>\n",
       "      <td>258.882</td>\n",
       "      <td>0.75</td>\n",
       "      <td>2016-01-01 14:12:34</td>\n",
       "      <td>2016-01-01 17:02:28</td>\n",
       "      <td>2016-01-01 19:52:22</td>\n",
       "      <td>5.66324</td>\n",
       "      <td>3.24719</td>\n",
       "    </tr>\n",
       "    <tr>\n",
       "      <th>3</th>\n",
       "      <td>-0.708832</td>\n",
       "      <td>261.123</td>\n",
       "      <td>0.75</td>\n",
       "      <td>2016-01-01 14:04:34</td>\n",
       "      <td>2016-01-01 17:11:22</td>\n",
       "      <td>2016-01-01 20:18:10</td>\n",
       "      <td>6.22688</td>\n",
       "      <td>3.03762</td>\n",
       "    </tr>\n",
       "  </tbody>\n",
       "</table>\n",
       "</div>"
      ],
      "text/plain": [
       "         HDec      HRA  HsigmaR              HTime_i             HTime_c  \\\n",
       "1   -8.423330  256.377     0.75  2016-01-01 14:03:17 2016-01-01 16:52:28   \n",
       "27 -19.431800  258.047     0.75  2016-01-01 14:49:10 2016-01-01 16:59:13   \n",
       "14 -12.673900  258.487     0.75  2016-01-01 14:24:19 2016-01-01 17:00:55   \n",
       "7   -8.159460  258.882     0.75  2016-01-01 14:12:34 2016-01-01 17:02:28   \n",
       "3   -0.708832  261.123     0.75  2016-01-01 14:04:34 2016-01-01 17:11:22   \n",
       "\n",
       "                HTime_f  Hduration     Hsig  \n",
       "1   2016-01-01 19:41:39    5.63943  2.85261  \n",
       "27  2016-01-01 19:09:16    4.33481  3.08562  \n",
       "14  2016-01-01 19:37:31    5.22007  2.95240  \n",
       "7   2016-01-01 19:52:22    5.66324  3.24719  \n",
       "3   2016-01-01 20:18:10    6.22688  3.03762  "
      ]
     },
     "execution_count": 4,
     "metadata": {},
     "output_type": "execute_result"
    }
   ],
   "source": [
    "df.head(5)"
   ]
  },
  {
   "cell_type": "code",
   "execution_count": null,
   "metadata": {
    "collapsed": true
   },
   "outputs": [],
   "source": [
    "for i in range(1000):\n",
    "    df2 = df.reindex(np.random.permutation(df.index))\n",
    "    df2.reset_index(drop=True, inplace=True)\n",
    "    df2[['HDec','Hduration']] = df[['HDec','Hduration']]\n",
    "    df2[['HTime_i']] = pd.to_datetime(df2.HTime_c)-pd.to_timedelta(df2.Hduration/2, unit='h')\n",
    "    df2[['HTime_f']] = pd.to_datetime(df2.HTime_c)+pd.to_timedelta(df2.Hduration/2, unit='h')\n",
    "    df2.columns=['HDec','HRA','HsigmaR','HTime_i','HTime_c','HTime_f','Hduration','Hsig']\n",
    "    df2.to_csv(\"HAWC_scrambled/{}.csv\".format(i),\n",
    "          index=False,encoding='utf-8')"
   ]
  },
  {
   "cell_type": "code",
   "execution_count": null,
   "metadata": {
    "collapsed": true
   },
   "outputs": [],
   "source": []
  }
 ],
 "metadata": {
  "kernelspec": {
   "display_name": "Python 2",
   "language": "python",
   "name": "python2"
  },
  "language_info": {
   "codemirror_mode": {
    "name": "ipython",
    "version": 2
   },
   "file_extension": ".py",
   "mimetype": "text/x-python",
   "name": "python",
   "nbconvert_exporter": "python",
   "pygments_lexer": "ipython2",
   "version": "2.7.13"
  }
 },
 "nbformat": 4,
 "nbformat_minor": 2
}
